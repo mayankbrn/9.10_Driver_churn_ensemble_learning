{
  "nbformat": 4,
  "nbformat_minor": 0,
  "metadata": {
    "colab": {
      "provenance": [],
      "toc_visible": true,
      "authorship_tag": "ABX9TyMnVcTN8RMlndvDJLNeATXP",
      "include_colab_link": true
    },
    "kernelspec": {
      "name": "python3",
      "display_name": "Python 3"
    },
    "language_info": {
      "name": "python"
    }
  },
  "cells": [
    {
      "cell_type": "markdown",
      "metadata": {
        "id": "view-in-github",
        "colab_type": "text"
      },
      "source": [
        "<a href=\"https://colab.research.google.com/github/mayankbrn/9.10_Driver_churn_ensemble_learning/blob/main/10_Driver_churn_ensemble_learning.ipynb\" target=\"_parent\"><img src=\"https://colab.research.google.com/assets/colab-badge.svg\" alt=\"Open In Colab\"/></a>"
      ]
    },
    {
      "cell_type": "markdown",
      "source": [
        "# About Project"
      ],
      "metadata": {
        "id": "vybILNA183j7"
      }
    },
    {
      "cell_type": "markdown",
      "source": [
        "![image.png](data:image/png;base64,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)"
      ],
      "metadata": {
        "id": "-ZT4h_c4-hn9"
      }
    },
    {
      "cell_type": "markdown",
      "source": [
        "## Problem Statement\n",
        "\n",
        "Recruiting and retaining drivers is seen by industry watchers as a tough battle for Ola. Churn among drivers is high and it’s very easy for drivers to stop working for the service on the fly or jump to competitor depending on the rates.\n",
        "\n",
        "As the companies get bigger, the high churn could become a bigger problem. To find new drivers, Ola is casting a wide net, including people who don’t have cars for jobs. But this acquisition is really costly. Losing drivers frequently impacts the morale of the organization and acquiring new drivers is more expensive than retaining existing ones.\n",
        "\n"
      ],
      "metadata": {
        "id": "nubkjkUZ9Job"
      }
    },
    {
      "cell_type": "markdown",
      "source": [
        "## Main Task\n",
        "\n",
        "You are working as a data scientist with the Analytics Department of Ola, focused on driver team attrition. You are provided with the monthly information for a segment of drivers for 2019 and 2020 and tasked to predict whether a driver will be leaving the company or not based on their attributes like\n",
        "\n",
        "Demographics (city, age, gender etc.)\n",
        "Tenure information (joining date, Last Date)\n",
        "Historical data regarding the performance of the driver (Quarterly rating, Monthly business acquired, grade, Income)"
      ],
      "metadata": {
        "id": "yud-fM1g9W-U"
      }
    },
    {
      "cell_type": "markdown",
      "source": [
        "## Driver Dataset Documentation\n",
        "\n",
        "### Fields:\n",
        "\n",
        "1. **MMMM-YY : Reporting Date (Monthly)**  \n",
        "   - Represents the monthly reporting period in `MMMM-YY` format.\n",
        "\n",
        "2. **Driver_ID : Unique ID for drivers**  \n",
        "   - A unique identifier assigned to each driver.\n",
        "\n",
        "3. **Age : Age of the driver**  \n",
        "   - Age of the driver in years.\n",
        "\n",
        "4. **Gender : Gender of the driver**  \n",
        "   - Encoded values:  \n",
        "     - `0` : Male  \n",
        "     - `1` : Female  \n",
        "\n",
        "5. **City : City Code of the driver**  \n",
        "   - Code representing the city where the driver is based.\n",
        "\n",
        "6. **Education_Level : Education level**  \n",
        "   - Encoded values:  \n",
        "     - `0` : 10+  \n",
        "     - `1` : 12+  \n",
        "     - `2` : Graduate  \n",
        "\n",
        "7. **Income : Monthly average income of the driver**  \n",
        "   - Represents the driver's average monthly income.\n",
        "\n",
        "8. **Date Of Joining : Joining date for the driver**  \n",
        "   - The date when the driver joined.\n",
        "\n",
        "9. **LastWorkingDate : Last date of working for the driver**  \n",
        "   - The last working date recorded for the driver.\n",
        "\n",
        "10. **Joining Designation : Designation of the driver at the time of joining**  \n",
        "    - The job title/designation when the driver started.\n",
        "\n",
        "11. **Grade : Grade of the driver at the time of reporting**  \n",
        "    - The grade level assigned to the driver.\n",
        "\n",
        "12. **Total Business Value : Total business value acquired by the driver in a month**  \n",
        "    - The business value generated by the driver in a given month:  \n",
        "      - Positive value indicates revenue.  \n",
        "      - Negative value indicates cancellations, refunds, or car EMI adjustments.\n",
        "\n",
        "13. **Quarterly Rating : Quarterly rating of the driver**  \n",
        "    - Ratings range from `1` to `5` (higher is better).\n"
      ],
      "metadata": {
        "id": "6PreyW8s9Obe"
      }
    },
    {
      "cell_type": "markdown",
      "source": [
        "## Concepts Tested:\n",
        "\n",
        "Ensemble Learning- Bagging\n",
        "Ensemble Learning- Boosting\n",
        "KNN Imputation of Missing Values\n",
        "Working with an imbalanced dataset"
      ],
      "metadata": {
        "id": "G5MewGC89pOM"
      }
    },
    {
      "cell_type": "markdown",
      "source": [
        "## Data Analysis and Machine Learning Workflow\n",
        "\n",
        "### Steps Overview\n",
        "\n",
        "### 1. **Data Import and Initial Analysis**\n",
        "   - Import the dataset and perform exploratory analysis steps such as:  \n",
        "     - Checking the structure and characteristics of the dataset.\n",
        "     - Understanding distributions and summary statistics.\n",
        "\n",
        "### 2. **Data Preparation**\n",
        "   - Convert date-like features to their respective data types.\n",
        "   - Identify and handle missing values.  \n",
        "     - Prepare data for **KNN Imputation** by considering only numerical features.\n",
        "   - Aggregate data to remove multiple occurrences of the same driver's data:  \n",
        "     - Start with an empty DataFrame containing unique `Driver_IDs`.\n",
        "     - Use a **GroupBy Driver_ID** approach to bring all features to the same level (similar to Delhivery business case).\n",
        "\n",
        "### 3. **Feature Engineering**\n",
        "   - **Create New Columns:**  \n",
        "     1. **Quarterly Rating Increase:**  \n",
        "        - A column indicating whether the quarterly rating has increased for a driver (`1` for increased, `0` otherwise).\n",
        "     2. **Target Variable:**  \n",
        "        - A column (`target`) indicating whether the driver has left the company (`1` if `LastWorkingDate` is present, `0` otherwise).\n",
        "     3. **Monthly Income Increase:**  \n",
        "        - A column indicating whether the driver's monthly income has increased (`1` for increased, `0` otherwise).\n",
        "\n",
        "### 4. **Statistical Summary**\n",
        "   - Generate a statistical summary of the derived dataset.\n",
        "   - Check the correlation among independent variables and analyze their interactions.\n",
        "\n",
        "### 5. **Data Transformation**\n",
        "   - Apply **One-Hot Encoding** for categorical variables.\n",
        "   - Address **Class Imbalance** using appropriate techniques.\n",
        "   - Standardize training data to ensure uniformity in feature scaling.\n",
        "\n",
        "### 6. **Model Building**\n",
        "   - Use **Ensemble Learning Methods** such as:\n",
        "     - **Bagging** (e.g., Random Forest, Extra Trees).\n",
        "     - **Boosting** (e.g., Gradient Boosting, XGBoost, LightGBM).\n",
        "   - Perform **Hyperparameter Tuning** to optimize model performance.\n",
        "\n",
        "### 7. **Results Evaluation**\n",
        "   - Generate and evaluate performance met\n"
      ],
      "metadata": {
        "id": "cF3R-9_i92ZI"
      }
    }
  ]
}